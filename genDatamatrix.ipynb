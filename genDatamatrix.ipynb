{
 "cells": [
  {
   "cell_type": "code",
   "execution_count": 20,
   "metadata": {},
   "outputs": [
    {
     "name": "stdout",
     "output_type": "stream",
     "text": [
      "start\n"
     ]
    }
   ],
   "source": [
    "import os\n",
    "import treepoem\n",
    "from PIL import Image, ImageDraw, ImageFilter, ImageFont\n",
    "from IPython.display import Image as imgDisp\n",
    "\n",
    "print(\"start\")\n",
    "\n",
    "\n",
    "#Settings\n",
    "#30x15mm\n",
    "output_picsize = (300, 150)\n",
    "\n",
    "\n",
    "def gen_label(inputdata):\n",
    "    \n",
    "    output_picture = Image.new('RGB', output_picsize, (255, 255, 255))\n",
    "\n",
    "    #Datamatrix\n",
    "    datamatrix_image = treepoem.generate_barcode(barcode_type = 'datamatrix', data = inputdata[0])\n",
    "    output_picture.paste(datamatrix_image, (20, 20))\n",
    "    \n",
    "    #datamatrix label\n",
    "    fnt = ImageFont.truetype(\"ARIAL.TTF\", 20)\n",
    "    d = ImageDraw.Draw(output_picture)\n",
    "    d.text((20,100), inputdata[0],font = fnt ,fill=(0,0,0))\n",
    "\n",
    "    #labels\n",
    "    fnt2 = ImageFont.truetype(\"ARIAL.TTF\", 30)\n",
    "    d2 = ImageDraw.Draw(output_picture)\n",
    "    d2.text((100,15), inputdata[1],font = fnt2 ,fill=(0,0,0))\n",
    "\n",
    "\n",
    "    fnt3 = ImageFont.truetype(\"ARIAL.TTF\", 30)\n",
    "    d3 = ImageDraw.Draw(output_picture)\n",
    "    d3.text((100,50), inputdata[2],font = fnt3 ,fill=(0,0,0))\n",
    "\n",
    "\n",
    "    #save image to file\n",
    "    return output_picture    \n",
    "\n"
   ]
  },
  {
   "cell_type": "code",
   "execution_count": 21,
   "metadata": {
    "scrolled": true
   },
   "outputs": [
    {
     "name": "stdout",
     "output_type": "stream",
     "text": [
      "DONE\n"
     ]
    },
    {
     "data": {
      "image/png": "[encoded data removed]",
      "text/plain": [
       "<IPython.core.display.Image object>"
      ]
     },
     "execution_count": 21,
     "metadata": {},
     "output_type": "execute_result"
    }
   ],
   "source": [
    "tmp_file = gen_label([\"qrcodecontent\", \"upline\", \"downline\"])\n",
    "tmp_file.convert('1').save('output.png')\n",
    "\n",
    "print(\"DONE\")\n",
    "imgDisp(filename='output.png') "
   ]
  },
  {
   "cell_type": "code",
   "execution_count": null,
   "metadata": {},
   "outputs": [],
   "source": []
  }
 ],
 "metadata": {
  "kernelspec": {
   "display_name": "Python 3",
   "language": "python",
   "name": "python3"
  },
  "language_info": {
   "codemirror_mode": {
    "name": "ipython",
    "version": 3
   },
   "file_extension": ".py",
   "mimetype": "text/x-python",
   "name": "python",
   "nbconvert_exporter": "python",
   "pygments_lexer": "ipython3",
   "version": "3.5.2"
  }
 },
 "nbformat": 4,
 "nbformat_minor": 2
}
