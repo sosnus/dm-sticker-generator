{
 "cells": [
  {
   "cell_type": "code",
   "execution_count": 3,
   "metadata": {},
   "outputs": [
    {
     "name": "stdout",
     "output_type": "stream",
     "text": [
      "start\n"
     ]
    },
    {
     "ename": "TreepoemError",
     "evalue": "Cannot determine path to ghostscript, is it installed?",
     "output_type": "error",
     "traceback": [
      "\u001b[1;31m---------------------------------------------------------------------------\u001b[0m",
      "\u001b[1;31mTreepoemError\u001b[0m                             Traceback (most recent call last)",
      "\u001b[1;32m<ipython-input-3-eb710595a59a>\u001b[0m in \u001b[0;36m<module>\u001b[1;34m\u001b[0m\n\u001b[0;32m     39\u001b[0m \u001b[1;33m\u001b[0m\u001b[0m\n\u001b[0;32m     40\u001b[0m \u001b[1;33m\u001b[0m\u001b[0m\n\u001b[1;32m---> 41\u001b[1;33m \u001b[0mtmp_file\u001b[0m \u001b[1;33m=\u001b[0m \u001b[0mgen_label\u001b[0m\u001b[1;33m(\u001b[0m\u001b[1;33m[\u001b[0m\u001b[1;34m\"qrcodecontent\"\u001b[0m\u001b[1;33m,\u001b[0m \u001b[1;34m\"upline\"\u001b[0m\u001b[1;33m,\u001b[0m \u001b[1;34m\"downline\"\u001b[0m\u001b[1;33m]\u001b[0m\u001b[1;33m)\u001b[0m\u001b[1;33m\u001b[0m\u001b[0m\n\u001b[0m\u001b[0;32m     42\u001b[0m \u001b[0mtmp_file\u001b[0m\u001b[1;33m.\u001b[0m\u001b[0mconvert\u001b[0m\u001b[1;33m(\u001b[0m\u001b[1;34m'1'\u001b[0m\u001b[1;33m)\u001b[0m\u001b[1;33m.\u001b[0m\u001b[0msave\u001b[0m\u001b[1;33m(\u001b[0m\u001b[1;34m'output.png'\u001b[0m\u001b[1;33m)\u001b[0m\u001b[1;33m\u001b[0m\u001b[0m\n\u001b[0;32m     43\u001b[0m \u001b[1;33m\u001b[0m\u001b[0m\n",
      "\u001b[1;32m<ipython-input-3-eb710595a59a>\u001b[0m in \u001b[0;36mgen_label\u001b[1;34m(inputdata)\u001b[0m\n\u001b[0;32m     16\u001b[0m \u001b[1;33m\u001b[0m\u001b[0m\n\u001b[0;32m     17\u001b[0m     \u001b[1;31m#Datamatrix\u001b[0m\u001b[1;33m\u001b[0m\u001b[1;33m\u001b[0m\u001b[0m\n\u001b[1;32m---> 18\u001b[1;33m     \u001b[0mdatamatrix_image\u001b[0m \u001b[1;33m=\u001b[0m \u001b[0mtreepoem\u001b[0m\u001b[1;33m.\u001b[0m\u001b[0mgenerate_barcode\u001b[0m\u001b[1;33m(\u001b[0m\u001b[0mbarcode_type\u001b[0m \u001b[1;33m=\u001b[0m \u001b[1;34m'datamatrix'\u001b[0m\u001b[1;33m,\u001b[0m \u001b[0mdata\u001b[0m \u001b[1;33m=\u001b[0m \u001b[0minputdata\u001b[0m\u001b[1;33m[\u001b[0m\u001b[1;36m0\u001b[0m\u001b[1;33m]\u001b[0m\u001b[1;33m)\u001b[0m\u001b[1;33m\u001b[0m\u001b[0m\n\u001b[0m\u001b[0;32m     19\u001b[0m     \u001b[0moutput_picture\u001b[0m\u001b[1;33m.\u001b[0m\u001b[0mpaste\u001b[0m\u001b[1;33m(\u001b[0m\u001b[0mdatamatrix_image\u001b[0m\u001b[1;33m,\u001b[0m \u001b[1;33m(\u001b[0m\u001b[1;36m20\u001b[0m\u001b[1;33m,\u001b[0m \u001b[1;36m20\u001b[0m\u001b[1;33m)\u001b[0m\u001b[1;33m)\u001b[0m\u001b[1;33m\u001b[0m\u001b[0m\n\u001b[0;32m     20\u001b[0m \u001b[1;33m\u001b[0m\u001b[0m\n",
      "\u001b[1;32mc:\\users\\sosnu\\appdata\\local\\programs\\python\\python37-32\\lib\\site-packages\\treepoem\\__init__.py\u001b[0m in \u001b[0;36mgenerate_barcode\u001b[1;34m(barcode_type, data, options)\u001b[0m\n\u001b[0;32m    147\u001b[0m         \u001b[0moptions\u001b[0m \u001b[1;33m=\u001b[0m \u001b[1;33m{\u001b[0m\u001b[1;33m}\u001b[0m\u001b[1;33m\u001b[0m\u001b[0m\n\u001b[0;32m    148\u001b[0m     \u001b[0mcode\u001b[0m \u001b[1;33m=\u001b[0m \u001b[0m_format_code\u001b[0m\u001b[1;33m(\u001b[0m\u001b[0mbarcode_type\u001b[0m\u001b[1;33m,\u001b[0m \u001b[0mdata\u001b[0m\u001b[1;33m,\u001b[0m \u001b[0moptions\u001b[0m\u001b[1;33m)\u001b[0m\u001b[1;33m\u001b[0m\u001b[0m\n\u001b[1;32m--> 149\u001b[1;33m     \u001b[0mbbox_lines\u001b[0m \u001b[1;33m=\u001b[0m \u001b[0m_get_bbox\u001b[0m\u001b[1;33m(\u001b[0m\u001b[0mcode\u001b[0m\u001b[1;33m)\u001b[0m\u001b[1;33m\u001b[0m\u001b[0m\n\u001b[0m\u001b[0;32m    150\u001b[0m     \u001b[0mfull_code\u001b[0m \u001b[1;33m=\u001b[0m \u001b[0mEPS_TEMPLATE\u001b[0m\u001b[1;33m.\u001b[0m\u001b[0mformat\u001b[0m\u001b[1;33m(\u001b[0m\u001b[0mbbox\u001b[0m\u001b[1;33m=\u001b[0m\u001b[0mbbox_lines\u001b[0m\u001b[1;33m,\u001b[0m \u001b[0mbwipp\u001b[0m\u001b[1;33m=\u001b[0m\u001b[0mBWIPP\u001b[0m\u001b[1;33m,\u001b[0m \u001b[0mcode\u001b[0m\u001b[1;33m=\u001b[0m\u001b[0mcode\u001b[0m\u001b[1;33m)\u001b[0m\u001b[1;33m\u001b[0m\u001b[0m\n\u001b[0;32m    151\u001b[0m     \u001b[1;32mreturn\u001b[0m \u001b[0mEpsImagePlugin\u001b[0m\u001b[1;33m.\u001b[0m\u001b[0mEpsImageFile\u001b[0m\u001b[1;33m(\u001b[0m\u001b[0mio\u001b[0m\u001b[1;33m.\u001b[0m\u001b[0mBytesIO\u001b[0m\u001b[1;33m(\u001b[0m\u001b[0mfull_code\u001b[0m\u001b[1;33m.\u001b[0m\u001b[0mencode\u001b[0m\u001b[1;33m(\u001b[0m\u001b[1;34m\"utf8\"\u001b[0m\u001b[1;33m)\u001b[0m\u001b[1;33m)\u001b[0m\u001b[1;33m)\u001b[0m\u001b[1;33m\u001b[0m\u001b[0m\n",
      "\u001b[1;32mc:\\users\\sosnu\\appdata\\local\\programs\\python\\python37-32\\lib\\site-packages\\treepoem\\__init__.py\u001b[0m in \u001b[0;36m_get_bbox\u001b[1;34m(code)\u001b[0m\n\u001b[0;32m     83\u001b[0m \u001b[1;32mdef\u001b[0m \u001b[0m_get_bbox\u001b[0m\u001b[1;33m(\u001b[0m\u001b[0mcode\u001b[0m\u001b[1;33m)\u001b[0m\u001b[1;33m:\u001b[0m\u001b[1;33m\u001b[0m\u001b[0m\n\u001b[0;32m     84\u001b[0m     \u001b[0mfull_code\u001b[0m \u001b[1;33m=\u001b[0m \u001b[0mBBOX_TEMPLATE\u001b[0m\u001b[1;33m.\u001b[0m\u001b[0mformat\u001b[0m\u001b[1;33m(\u001b[0m\u001b[0mbwipp\u001b[0m\u001b[1;33m=\u001b[0m\u001b[0mBWIPP\u001b[0m\u001b[1;33m,\u001b[0m \u001b[0mcode\u001b[0m\u001b[1;33m=\u001b[0m\u001b[0mcode\u001b[0m\u001b[1;33m)\u001b[0m\u001b[1;33m\u001b[0m\u001b[0m\n\u001b[1;32m---> 85\u001b[1;33m     \u001b[0mghostscript\u001b[0m \u001b[1;33m=\u001b[0m \u001b[0m_get_ghostscript_binary\u001b[0m\u001b[1;33m(\u001b[0m\u001b[1;33m)\u001b[0m\u001b[1;33m\u001b[0m\u001b[0m\n\u001b[0m\u001b[0;32m     86\u001b[0m     gs_process = subprocess.Popen(\n\u001b[0;32m     87\u001b[0m         \u001b[1;33m[\u001b[0m\u001b[0mghostscript\u001b[0m\u001b[1;33m,\u001b[0m \u001b[1;34m\"-sDEVICE=bbox\"\u001b[0m\u001b[1;33m,\u001b[0m \u001b[1;34m\"-dBATCH\"\u001b[0m\u001b[1;33m,\u001b[0m \u001b[1;34m\"-dSAFER\"\u001b[0m\u001b[1;33m,\u001b[0m \u001b[1;34m\"-\"\u001b[0m\u001b[1;33m]\u001b[0m\u001b[1;33m,\u001b[0m\u001b[1;33m\u001b[0m\u001b[0m\n",
      "\u001b[1;32mc:\\users\\sosnu\\appdata\\local\\programs\\python\\python37-32\\lib\\site-packages\\treepoem\\__init__.py\u001b[0m in \u001b[0;36m_get_ghostscript_binary\u001b[1;34m()\u001b[0m\n\u001b[0;32m    110\u001b[0m         \u001b[1;32mif\u001b[0m \u001b[1;32mnot\u001b[0m \u001b[0mbinary\u001b[0m\u001b[1;33m:\u001b[0m\u001b[1;33m\u001b[0m\u001b[0m\n\u001b[0;32m    111\u001b[0m             raise TreepoemError(\n\u001b[1;32m--> 112\u001b[1;33m                 \u001b[1;34m\"Cannot determine path to ghostscript, is it installed?\"\u001b[0m\u001b[1;33m\u001b[0m\u001b[0m\n\u001b[0m\u001b[0;32m    113\u001b[0m             )\n\u001b[0;32m    114\u001b[0m \u001b[1;33m\u001b[0m\u001b[0m\n",
      "\u001b[1;31mTreepoemError\u001b[0m: Cannot determine path to ghostscript, is it installed?"
     ]
    }
   ],
   "source": [
    "import os\n",
    "import treepoem\n",
    "from PIL import Image, ImageDraw, ImageFilter, ImageFont\n",
    "\n",
    "print(\"start\")\n",
    "\n",
    "\n",
    "#Settings\n",
    "#30x15mm\n",
    "output_picsize = (300, 150)\n",
    "\n",
    "\n",
    "def gen_label(inputdata):\n",
    "    \n",
    "    output_picture = Image.new('RGB', output_picsize, (255, 255, 255))\n",
    "\n",
    "    #Datamatrix\n",
    "    datamatrix_image = treepoem.generate_barcode(barcode_type = 'datamatrix', data = inputdata[0])\n",
    "    output_picture.paste(datamatrix_image, (20, 20))\n",
    "    \n",
    "    #datamatrix label\n",
    "    fnt = ImageFont.truetype(\"Arial\", 20)\n",
    "    d = ImageDraw.Draw(output_picture)\n",
    "    d.text((20,100), inputdata[0],font = fnt ,fill=(0,0,0))\n",
    "\n",
    "    #labels\n",
    "    fnt2 = ImageFont.truetype(\"Arial\", 30)\n",
    "    d2 = ImageDraw.Draw(output_picture)\n",
    "    d2.text((100,15), inputdata[1],font = fnt2 ,fill=(0,0,0))\n",
    "\n",
    "\n",
    "    fnt3 = ImageFont.truetype(\"Arial\", 30)\n",
    "    d3 = ImageDraw.Draw(output_picture)\n",
    "    d3.text((100,50), inputdata[2],font = fnt3 ,fill=(0,0,0))\n",
    "\n",
    "\n",
    "    #save image to file\n",
    "    return output_picture    \n",
    "\n",
    "\n",
    "tmp_file = gen_label([\"qrcodecontent\", \"upline\", \"downline\"])\n",
    "tmp_file.convert('1').save('output.png')\n",
    "\n",
    "print(\"DONE\")\n",
    "\n",
    "\n",
    "\n",
    "\n",
    "\n"
   ]
  },
  {
   "cell_type": "code",
   "execution_count": 2,
   "metadata": {},
   "outputs": [
    {
     "name": "stdout",
     "output_type": "stream",
     "text": [
      "start\n"
     ]
    },
    {
     "ename": "TreepoemError",
     "evalue": "Cannot determine path to ghostscript, is it installed?",
     "output_type": "error",
     "traceback": [
      "\u001b[1;31m---------------------------------------------------------------------------\u001b[0m",
      "\u001b[1;31mTreepoemError\u001b[0m                             Traceback (most recent call last)",
      "\u001b[1;32m<ipython-input-2-eb710595a59a>\u001b[0m in \u001b[0;36m<module>\u001b[1;34m\u001b[0m\n\u001b[0;32m     39\u001b[0m \u001b[1;33m\u001b[0m\u001b[0m\n\u001b[0;32m     40\u001b[0m \u001b[1;33m\u001b[0m\u001b[0m\n\u001b[1;32m---> 41\u001b[1;33m \u001b[0mtmp_file\u001b[0m \u001b[1;33m=\u001b[0m \u001b[0mgen_label\u001b[0m\u001b[1;33m(\u001b[0m\u001b[1;33m[\u001b[0m\u001b[1;34m\"qrcodecontent\"\u001b[0m\u001b[1;33m,\u001b[0m \u001b[1;34m\"upline\"\u001b[0m\u001b[1;33m,\u001b[0m \u001b[1;34m\"downline\"\u001b[0m\u001b[1;33m]\u001b[0m\u001b[1;33m)\u001b[0m\u001b[1;33m\u001b[0m\u001b[0m\n\u001b[0m\u001b[0;32m     42\u001b[0m \u001b[0mtmp_file\u001b[0m\u001b[1;33m.\u001b[0m\u001b[0mconvert\u001b[0m\u001b[1;33m(\u001b[0m\u001b[1;34m'1'\u001b[0m\u001b[1;33m)\u001b[0m\u001b[1;33m.\u001b[0m\u001b[0msave\u001b[0m\u001b[1;33m(\u001b[0m\u001b[1;34m'output.png'\u001b[0m\u001b[1;33m)\u001b[0m\u001b[1;33m\u001b[0m\u001b[0m\n\u001b[0;32m     43\u001b[0m \u001b[1;33m\u001b[0m\u001b[0m\n",
      "\u001b[1;32m<ipython-input-2-eb710595a59a>\u001b[0m in \u001b[0;36mgen_label\u001b[1;34m(inputdata)\u001b[0m\n\u001b[0;32m     16\u001b[0m \u001b[1;33m\u001b[0m\u001b[0m\n\u001b[0;32m     17\u001b[0m     \u001b[1;31m#Datamatrix\u001b[0m\u001b[1;33m\u001b[0m\u001b[1;33m\u001b[0m\u001b[0m\n\u001b[1;32m---> 18\u001b[1;33m     \u001b[0mdatamatrix_image\u001b[0m \u001b[1;33m=\u001b[0m \u001b[0mtreepoem\u001b[0m\u001b[1;33m.\u001b[0m\u001b[0mgenerate_barcode\u001b[0m\u001b[1;33m(\u001b[0m\u001b[0mbarcode_type\u001b[0m \u001b[1;33m=\u001b[0m \u001b[1;34m'datamatrix'\u001b[0m\u001b[1;33m,\u001b[0m \u001b[0mdata\u001b[0m \u001b[1;33m=\u001b[0m \u001b[0minputdata\u001b[0m\u001b[1;33m[\u001b[0m\u001b[1;36m0\u001b[0m\u001b[1;33m]\u001b[0m\u001b[1;33m)\u001b[0m\u001b[1;33m\u001b[0m\u001b[0m\n\u001b[0m\u001b[0;32m     19\u001b[0m     \u001b[0moutput_picture\u001b[0m\u001b[1;33m.\u001b[0m\u001b[0mpaste\u001b[0m\u001b[1;33m(\u001b[0m\u001b[0mdatamatrix_image\u001b[0m\u001b[1;33m,\u001b[0m \u001b[1;33m(\u001b[0m\u001b[1;36m20\u001b[0m\u001b[1;33m,\u001b[0m \u001b[1;36m20\u001b[0m\u001b[1;33m)\u001b[0m\u001b[1;33m)\u001b[0m\u001b[1;33m\u001b[0m\u001b[0m\n\u001b[0;32m     20\u001b[0m \u001b[1;33m\u001b[0m\u001b[0m\n",
      "\u001b[1;32mc:\\users\\sosnu\\appdata\\local\\programs\\python\\python37-32\\lib\\site-packages\\treepoem\\__init__.py\u001b[0m in \u001b[0;36mgenerate_barcode\u001b[1;34m(barcode_type, data, options)\u001b[0m\n\u001b[0;32m    147\u001b[0m         \u001b[0moptions\u001b[0m \u001b[1;33m=\u001b[0m \u001b[1;33m{\u001b[0m\u001b[1;33m}\u001b[0m\u001b[1;33m\u001b[0m\u001b[0m\n\u001b[0;32m    148\u001b[0m     \u001b[0mcode\u001b[0m \u001b[1;33m=\u001b[0m \u001b[0m_format_code\u001b[0m\u001b[1;33m(\u001b[0m\u001b[0mbarcode_type\u001b[0m\u001b[1;33m,\u001b[0m \u001b[0mdata\u001b[0m\u001b[1;33m,\u001b[0m \u001b[0moptions\u001b[0m\u001b[1;33m)\u001b[0m\u001b[1;33m\u001b[0m\u001b[0m\n\u001b[1;32m--> 149\u001b[1;33m     \u001b[0mbbox_lines\u001b[0m \u001b[1;33m=\u001b[0m \u001b[0m_get_bbox\u001b[0m\u001b[1;33m(\u001b[0m\u001b[0mcode\u001b[0m\u001b[1;33m)\u001b[0m\u001b[1;33m\u001b[0m\u001b[0m\n\u001b[0m\u001b[0;32m    150\u001b[0m     \u001b[0mfull_code\u001b[0m \u001b[1;33m=\u001b[0m \u001b[0mEPS_TEMPLATE\u001b[0m\u001b[1;33m.\u001b[0m\u001b[0mformat\u001b[0m\u001b[1;33m(\u001b[0m\u001b[0mbbox\u001b[0m\u001b[1;33m=\u001b[0m\u001b[0mbbox_lines\u001b[0m\u001b[1;33m,\u001b[0m \u001b[0mbwipp\u001b[0m\u001b[1;33m=\u001b[0m\u001b[0mBWIPP\u001b[0m\u001b[1;33m,\u001b[0m \u001b[0mcode\u001b[0m\u001b[1;33m=\u001b[0m\u001b[0mcode\u001b[0m\u001b[1;33m)\u001b[0m\u001b[1;33m\u001b[0m\u001b[0m\n\u001b[0;32m    151\u001b[0m     \u001b[1;32mreturn\u001b[0m \u001b[0mEpsImagePlugin\u001b[0m\u001b[1;33m.\u001b[0m\u001b[0mEpsImageFile\u001b[0m\u001b[1;33m(\u001b[0m\u001b[0mio\u001b[0m\u001b[1;33m.\u001b[0m\u001b[0mBytesIO\u001b[0m\u001b[1;33m(\u001b[0m\u001b[0mfull_code\u001b[0m\u001b[1;33m.\u001b[0m\u001b[0mencode\u001b[0m\u001b[1;33m(\u001b[0m\u001b[1;34m\"utf8\"\u001b[0m\u001b[1;33m)\u001b[0m\u001b[1;33m)\u001b[0m\u001b[1;33m)\u001b[0m\u001b[1;33m\u001b[0m\u001b[0m\n",
      "\u001b[1;32mc:\\users\\sosnu\\appdata\\local\\programs\\python\\python37-32\\lib\\site-packages\\treepoem\\__init__.py\u001b[0m in \u001b[0;36m_get_bbox\u001b[1;34m(code)\u001b[0m\n\u001b[0;32m     83\u001b[0m \u001b[1;32mdef\u001b[0m \u001b[0m_get_bbox\u001b[0m\u001b[1;33m(\u001b[0m\u001b[0mcode\u001b[0m\u001b[1;33m)\u001b[0m\u001b[1;33m:\u001b[0m\u001b[1;33m\u001b[0m\u001b[0m\n\u001b[0;32m     84\u001b[0m     \u001b[0mfull_code\u001b[0m \u001b[1;33m=\u001b[0m \u001b[0mBBOX_TEMPLATE\u001b[0m\u001b[1;33m.\u001b[0m\u001b[0mformat\u001b[0m\u001b[1;33m(\u001b[0m\u001b[0mbwipp\u001b[0m\u001b[1;33m=\u001b[0m\u001b[0mBWIPP\u001b[0m\u001b[1;33m,\u001b[0m \u001b[0mcode\u001b[0m\u001b[1;33m=\u001b[0m\u001b[0mcode\u001b[0m\u001b[1;33m)\u001b[0m\u001b[1;33m\u001b[0m\u001b[0m\n\u001b[1;32m---> 85\u001b[1;33m     \u001b[0mghostscript\u001b[0m \u001b[1;33m=\u001b[0m \u001b[0m_get_ghostscript_binary\u001b[0m\u001b[1;33m(\u001b[0m\u001b[1;33m)\u001b[0m\u001b[1;33m\u001b[0m\u001b[0m\n\u001b[0m\u001b[0;32m     86\u001b[0m     gs_process = subprocess.Popen(\n\u001b[0;32m     87\u001b[0m         \u001b[1;33m[\u001b[0m\u001b[0mghostscript\u001b[0m\u001b[1;33m,\u001b[0m \u001b[1;34m\"-sDEVICE=bbox\"\u001b[0m\u001b[1;33m,\u001b[0m \u001b[1;34m\"-dBATCH\"\u001b[0m\u001b[1;33m,\u001b[0m \u001b[1;34m\"-dSAFER\"\u001b[0m\u001b[1;33m,\u001b[0m \u001b[1;34m\"-\"\u001b[0m\u001b[1;33m]\u001b[0m\u001b[1;33m,\u001b[0m\u001b[1;33m\u001b[0m\u001b[0m\n",
      "\u001b[1;32mc:\\users\\sosnu\\appdata\\local\\programs\\python\\python37-32\\lib\\site-packages\\treepoem\\__init__.py\u001b[0m in \u001b[0;36m_get_ghostscript_binary\u001b[1;34m()\u001b[0m\n\u001b[0;32m    110\u001b[0m         \u001b[1;32mif\u001b[0m \u001b[1;32mnot\u001b[0m \u001b[0mbinary\u001b[0m\u001b[1;33m:\u001b[0m\u001b[1;33m\u001b[0m\u001b[0m\n\u001b[0;32m    111\u001b[0m             raise TreepoemError(\n\u001b[1;32m--> 112\u001b[1;33m                 \u001b[1;34m\"Cannot determine path to ghostscript, is it installed?\"\u001b[0m\u001b[1;33m\u001b[0m\u001b[0m\n\u001b[0m\u001b[0;32m    113\u001b[0m             )\n\u001b[0;32m    114\u001b[0m \u001b[1;33m\u001b[0m\u001b[0m\n",
      "\u001b[1;31mTreepoemError\u001b[0m: Cannot determine path to ghostscript, is it installed?"
     ]
    }
   ],
   "source": []
  },
  {
   "cell_type": "code",
   "execution_count": null,
   "metadata": {},
   "outputs": [],
   "source": []
  }
 ],
 "metadata": {
  "kernelspec": {
   "display_name": "Python 3",
   "language": "python",
   "name": "python3"
  },
  "language_info": {
   "codemirror_mode": {
    "name": "ipython",
    "version": 3
   },
   "file_extension": ".py",
   "mimetype": "text/x-python",
   "name": "python",
   "nbconvert_exporter": "python",
   "pygments_lexer": "ipython3",
   "version": "3.7.0"
  }
 },
 "nbformat": 4,
 "nbformat_minor": 2
}
